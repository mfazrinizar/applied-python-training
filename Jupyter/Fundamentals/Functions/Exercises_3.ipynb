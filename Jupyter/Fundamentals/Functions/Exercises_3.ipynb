{
 "cells": [
  {
   "cell_type": "code",
   "execution_count": 1,
   "metadata": {},
   "outputs": [
    {
     "name": "stdout",
     "output_type": "stream",
     "text": [
      "True\n",
      "False\n",
      "True\n",
      "False\n",
      "True\n",
      "False\n"
     ]
    }
   ],
   "source": [
    "# [Exercises: Level 3] Python Fundamentals - Functions\n",
    "\n",
    "'''\n",
    "Write a function called is_prime, which checks if a number is prime.\n",
    "\n",
    "Write a functions which checks if all items are unique in the list.\n",
    "\n",
    "Write a function which checks if all the items of the list are of the same data type.\n",
    "'''\n",
    "\n",
    "# 1. Function to check if a number is prime\n",
    "def is_prime(n):\n",
    "    if n <= 1:\n",
    "        return False\n",
    "    for i in range(2, int(n ** 0.5) + 1):\n",
    "        if n % i == 0:\n",
    "            return False\n",
    "    return True\n",
    "\n",
    "# 2. Function to check if all items in a list are unique\n",
    "def are_all_items_unique(lst):\n",
    "    return len(lst) == len(set(lst))\n",
    "\n",
    "# 3. Function to check if all items in a list are of the same data type\n",
    "def are_all_items_same_type(lst):\n",
    "    if not lst:\n",
    "        return True\n",
    "    first_type = type(lst[0])\n",
    "    return all(isinstance(item, first_type) for item in lst)\n",
    "\n",
    "# Testing the functions\n",
    "print(is_prime(7))  # True\n",
    "print(is_prime(10))  # False\n",
    "print(are_all_items_unique([1, 2, 3, 4, 5]))  # True\n",
    "print(are_all_items_unique([1, 2, 2, 3, 4]))  # False\n",
    "print(are_all_items_same_type([1, 2, 3, 4, 5]))  # True\n",
    "print(are_all_items_same_type([1, '2', 3, 4, 5]))  # False"
   ]
  }
 ],
 "metadata": {
  "kernelspec": {
   "display_name": ".venv",
   "language": "python",
   "name": "python3"
  },
  "language_info": {
   "codemirror_mode": {
    "name": "ipython",
    "version": 3
   },
   "file_extension": ".py",
   "mimetype": "text/x-python",
   "name": "python",
   "nbconvert_exporter": "python",
   "pygments_lexer": "ipython3",
   "version": "3.10.0"
  }
 },
 "nbformat": 4,
 "nbformat_minor": 2
}
