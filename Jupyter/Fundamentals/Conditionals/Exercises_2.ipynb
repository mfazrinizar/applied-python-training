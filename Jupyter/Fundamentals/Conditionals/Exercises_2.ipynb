{
 "cells": [
  {
   "cell_type": "code",
   "execution_count": 2,
   "metadata": {},
   "outputs": [
    {
     "name": "stdout",
     "output_type": "stream",
     "text": [
      "Grade: A\n",
      "\n",
      "Season: Autumn\n",
      "\n",
      "That fruit already exists in the list\n"
     ]
    }
   ],
   "source": [
    "# [Exercises: Level 2] Python Fundamentals - Conditionals\n",
    "\n",
    "'''\n",
    "Write a code which gives grade to students according to theirs scores:\n",
    "80-100, A\n",
    "70-89, B\n",
    "60-69, C\n",
    "50-59, D\n",
    "0-49, F\n",
    "'''\n",
    "def assign_grade(score):\n",
    "    if 80 <= score <= 100:\n",
    "        return 'A'\n",
    "    elif 70 <= score <= 79:\n",
    "        return 'B'\n",
    "    elif 60 <= score <= 69:\n",
    "        return 'C'\n",
    "    elif 50 <= score <= 59:\n",
    "        return 'D'\n",
    "    elif 0 <= score <= 49:\n",
    "        return 'F'\n",
    "    else:\n",
    "        return 'Invalid score'\n",
    "\n",
    "'''\n",
    "Check if the season is Autumn, Winter, Spring or Summer. \n",
    "If the user input is: September, October or November, the season is Autumn. December, January or February, the season is Winter. \n",
    "March, April or May, the season is Spring June, July or August, the season is Summer.\n",
    "'''\n",
    "def determine_season(month):\n",
    "    month = month.capitalize()\n",
    "    if month in ['September', 'October', 'November']:\n",
    "        return 'Autumn'\n",
    "    elif month in ['December', 'January', 'February']:\n",
    "        return 'Winter'\n",
    "    elif month in ['March', 'April', 'May']:\n",
    "        return 'Spring'\n",
    "    elif month in ['June', 'July', 'August']:\n",
    "        return 'Summer'\n",
    "    else:\n",
    "        return 'Invalid month'\n",
    "\n",
    "'''\n",
    "The following list contains some fruits:\n",
    "fruits = ['banana', 'orange', 'mango', 'lemon']\n",
    "\n",
    "If a fruit doesn't exist in the list add the fruit to the list and print the modified list. \n",
    "If the fruit exists print('That fruit already exist in the list')\n",
    "'''\n",
    "def check_and_add_fruit(fruit, fruits_list):\n",
    "    fruit = fruit.lower()\n",
    "    if fruit in fruits_list:\n",
    "        print('That fruit already exists in the list')\n",
    "    else:\n",
    "        fruits_list.append(fruit)\n",
    "        print('Modified list:', fruits_list)\n",
    "\n",
    "# Test the assign_grade function\n",
    "score = int(input(\"Enter the score: \")) # input: 86\n",
    "print(\"Grade:\", assign_grade(score))\n",
    "\n",
    "print()\n",
    "\n",
    "# Test the determine_season function\n",
    "month = input(\"Enter the month: \") # input: September\n",
    "print(\"Season:\", determine_season(month)) \n",
    "\n",
    "print()\n",
    "\n",
    "# Test the check_and_add_fruit function\n",
    "fruits = ['banana', 'orange', 'mango', 'lemon']\n",
    "fruit = input(\"Enter a fruit: \") # input: orange\n",
    "check_and_add_fruit(fruit, fruits)"
   ]
  }
 ],
 "metadata": {
  "kernelspec": {
   "display_name": ".venv",
   "language": "python",
   "name": "python3"
  },
  "language_info": {
   "codemirror_mode": {
    "name": "ipython",
    "version": 3
   },
   "file_extension": ".py",
   "mimetype": "text/x-python",
   "name": "python",
   "nbconvert_exporter": "python",
   "pygments_lexer": "ipython3",
   "version": "3.10.0"
  }
 },
 "nbformat": 4,
 "nbformat_minor": 2
}
