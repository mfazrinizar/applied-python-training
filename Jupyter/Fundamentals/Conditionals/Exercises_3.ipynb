{
 "cells": [
  {
   "cell_type": "code",
   "execution_count": 1,
   "metadata": {},
   "outputs": [
    {
     "name": "stdout",
     "output_type": "stream",
     "text": [
      "Middle skill: Node\n",
      "The person has Python skill.\n",
      "He is a backend developer\n",
      "Aurora Luna lives in Indonesia.\n"
     ]
    }
   ],
   "source": [
    "# [Exercises: Level 3] Python Fundamentals - Conditionals\n",
    "\n",
    "'''\n",
    "Here we have a person dictionary. Feel free to modify it!\n",
    "\n",
    "person={\n",
    "    'first_name': 'Aurora',\n",
    "    'last_name': 'Luna',\n",
    "    'age': 6,\n",
    "    'country': 'Indonesia',\n",
    "    'skills': ['JavaScript', 'React', 'Node', 'MongoDB', 'Python'],\n",
    "    'address': {\n",
    "        'street': 'Jl. Jalan',\n",
    "        'zipcode': '123456'\n",
    "    }\n",
    "}\n",
    "Check if the person dictionary has skills key, if so print out the middle skill in the skills list.\n",
    "\n",
    "Check if the person dictionary has skills key, if so check if the person has 'Python' skill and print out the result.\n",
    "\n",
    "If a person skills has only JavaScript and React, print('He is a front end developer'), if the person skills has Node, Python, MongoDB, print('He is a backend developer'), if the person skills has React, Node and MongoDB, Print('He is a fullstack developer'), else print('unknown title') - for more accurate results more conditions can be nested!\n",
    "\n",
    "If the person lives in Indonesia, print the information in the following format:\n",
    "\n",
    "Aurora Luna lives in Indonesia.\n",
    "'''\n",
    "\n",
    "# Person dictionary\n",
    "person = {\n",
    "    'first_name': 'Aurora',\n",
    "    'last_name': 'Luna',\n",
    "    'age': 6,\n",
    "    'country': 'Indonesia',\n",
    "    'skills': ['JavaScript', 'React', 'Node', 'MongoDB', 'Python'],\n",
    "    'address': {\n",
    "        'street': 'Jl. Jalan',\n",
    "        'zipcode': '123456'\n",
    "    }\n",
    "}\n",
    "\n",
    "# Check if the person dictionary has skills key\n",
    "if 'skills' in person:\n",
    "    skills = person['skills']\n",
    "    \n",
    "    # Print out the middle skill in the skills list\n",
    "    middle_index = len(skills) // 2\n",
    "    print(\"Middle skill:\", skills[middle_index])\n",
    "    \n",
    "    # Check if the person has 'Python' skill and print out the result\n",
    "    if 'Python' in skills:\n",
    "        print(\"The person has Python skill.\")\n",
    "    else:\n",
    "        print(\"The person does not have Python skill.\")\n",
    "    \n",
    "    # Determine the person's developer title based on their skills\n",
    "    if set(skills) == {'JavaScript', 'React'}:\n",
    "        print(\"He is a front end developer\")\n",
    "    elif set(skills) >= {'Node', 'Python', 'MongoDB'}:\n",
    "        print(\"He is a backend developer\")\n",
    "    elif set(skills) >= {'React', 'Node', 'MongoDB'}:\n",
    "        print(\"He is a fullstack developer\")\n",
    "    else:\n",
    "        print(\"Unknown title\")\n",
    "\n",
    "# Check if the person lives in Indonesia and print the information\n",
    "if person['country'] == 'Indonesia':\n",
    "    print(f\"{person['first_name']} {person['last_name']} lives in Indonesia.\")"
   ]
  }
 ],
 "metadata": {
  "kernelspec": {
   "display_name": ".venv",
   "language": "python",
   "name": "python3"
  },
  "language_info": {
   "codemirror_mode": {
    "name": "ipython",
    "version": 3
   },
   "file_extension": ".py",
   "mimetype": "text/x-python",
   "name": "python",
   "nbconvert_exporter": "python",
   "pygments_lexer": "ipython3",
   "version": "3.10.0"
  }
 },
 "nbformat": 4,
 "nbformat_minor": 2
}
