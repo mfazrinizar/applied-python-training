{
 "cells": [
  {
   "cell_type": "code",
   "execution_count": 10,
   "metadata": {},
   "outputs": [
    {
     "name": "stdout",
     "output_type": "stream",
     "text": [
      "The sum of all numbers is 5050.\n",
      "The sum of all evens is 2550. And the sum of all odds is 2500.\n"
     ]
    }
   ],
   "source": [
    "# [Exercises: Level 2] Python Fundamentals - Loops\n",
    "\n",
    "'''\n",
    "Use for loop to iterate from 0 to 100 and print the sum of all numbers.\n",
    "The sum of all numbers is 5050.\n",
    "\n",
    "Use for loop to iterate from 0 to 100 and print the sum of all evens and the sum of all odds.\n",
    "The sum of all evens is 2550. And the sum of all odds is 2500.\n",
    "'''\n",
    "\n",
    "# Sum of all numbers from 0 to 100\n",
    "total_sum = 0\n",
    "for i in range(101):\n",
    "    total_sum += i\n",
    "print(f\"The sum of all numbers is {total_sum}.\")\n",
    "\n",
    "# Sum of all even and odd numbers from 0 to 100\n",
    "sum_evens = 0\n",
    "sum_odds = 0\n",
    "for i in range(101):\n",
    "    if i % 2 == 0:\n",
    "        sum_evens += i\n",
    "    else:\n",
    "        sum_odds += i\n",
    "\n",
    "print(f\"The sum of all evens is {sum_evens}. And the sum of all odds is {sum_odds}.\")"
   ]
  }
 ],
 "metadata": {
  "kernelspec": {
   "display_name": ".venv",
   "language": "python",
   "name": "python3"
  },
  "language_info": {
   "codemirror_mode": {
    "name": "ipython",
    "version": 3
   },
   "file_extension": ".py",
   "mimetype": "text/x-python",
   "name": "python",
   "nbconvert_exporter": "python",
   "pygments_lexer": "ipython3",
   "version": "3.10.0"
  }
 },
 "nbformat": 4,
 "nbformat_minor": 2
}
