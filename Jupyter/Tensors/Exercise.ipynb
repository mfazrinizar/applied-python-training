{
  "nbformat": 4,
  "nbformat_minor": 0,
  "metadata": {
    "colab": {
      "provenance": [],
      "gpuType": "T4"
    },
    "kernelspec": {
      "name": "python3",
      "display_name": "Python 3"
    },
    "language_info": {
      "name": "python"
    },
    "accelerator": "GPU"
  },
  "cells": [
    {
      "cell_type": "code",
      "source": [
        "# @title 0. Checking GPU Availability for TensorFlow\n",
        "\n",
        "import tensorflow as tf\n",
        "\n",
        "print(tf.config.list_physical_devices(\"GPU\"))"
      ],
      "metadata": {
        "colab": {
          "base_uri": "https://localhost:8080/"
        },
        "id": "NsA6QW8SMpc3",
        "outputId": "c37507b1-51fb-4c8c-ba6c-17226e7ef8d9"
      },
      "execution_count": 26,
      "outputs": [
        {
          "output_type": "stream",
          "name": "stdout",
          "text": [
            "[PhysicalDevice(name='/physical_device:GPU:0', device_type='GPU')]\n"
          ]
        }
      ]
    },
    {
      "cell_type": "code",
      "execution_count": 27,
      "metadata": {
        "colab": {
          "base_uri": "https://localhost:8080/"
        },
        "id": "HfC--XlOIvD2",
        "outputId": "f4962d9a-09d5-432b-cb88-314e4cfd2e58"
      },
      "outputs": [
        {
          "output_type": "stream",
          "name": "stdout",
          "text": [
            "Vector: tf.Tensor([1. 2. 3. 4.], shape=(4,), dtype=float32)\n",
            "Scalar: tf.Tensor(5, shape=(), dtype=int32)\n",
            "Matrix: tf.Tensor(\n",
            "[[1. 2.]\n",
            " [3. 4.]], shape=(2, 2), dtype=float32)\n",
            "Tensor: tf.Tensor(\n",
            "[[[1. 2.]\n",
            "  [3. 4.]]\n",
            "\n",
            " [[5. 6.]\n",
            "  [7. 8.]]], shape=(2, 2, 2), dtype=float32)\n"
          ]
        }
      ],
      "source": [
        "# @title # 1. Create a vector, scalar, matrix and tensor with values of your choosing using tf.constant()\n",
        "\n",
        "import tensorflow as tf\n",
        "\n",
        "# Vector\n",
        "vector = tf.constant([1, 2, 3, 4], dtype=tf.float32)\n",
        "\n",
        "# Scalar\n",
        "scalar = tf.constant(5, dtype=tf.int32)\n",
        "\n",
        "# Matrix\n",
        "matrix = tf.constant([[1, 2], [3, 4]], dtype=tf.float32)\n",
        "\n",
        "# Tensor\n",
        "tensor = tf.constant([[[1, 2], [3, 4]], [[5, 6], [7, 8]]], dtype=tf.float32)\n",
        "\n",
        "print(\"Vector:\", vector)\n",
        "print(\"Scalar:\", scalar)\n",
        "print(\"Matrix:\", matrix)\n",
        "print(\"Tensor:\", tensor)\n"
      ]
    },
    {
      "cell_type": "code",
      "source": [
        "# @title 2. Find the shape, rank and size of the tensors you created in 1.\n",
        "\n",
        "print(\"Vector:\")\n",
        "print(\"Shape:\", vector.shape)\n",
        "print(\"Rank:\", tf.rank(vector))\n",
        "print(\"Size:\", tf.size(vector))\n",
        "\n",
        "print(\"\\nScalar:\")\n",
        "print(\"Shape:\", scalar.shape)\n",
        "print(\"Rank:\", tf.rank(scalar))\n",
        "print(\"Size:\", tf.size(scalar))\n",
        "\n",
        "print(\"\\nMatrix:\")\n",
        "print(\"Shape:\", matrix.shape)\n",
        "print(\"Rank:\", tf.rank(matrix))\n",
        "print(\"Size:\", tf.size(matrix))\n",
        "\n",
        "print(\"\\nTensor:\")\n",
        "print(\"Shape:\", tensor.shape)\n",
        "print(\"Rank:\", tf.rank(tensor))\n",
        "print(\"Size:\", tf.size(tensor))\n"
      ],
      "metadata": {
        "colab": {
          "base_uri": "https://localhost:8080/"
        },
        "id": "Ey8BIkLoKOJQ",
        "outputId": "071eeb5a-e1ee-4802-b905-d48bb1637fb0"
      },
      "execution_count": 28,
      "outputs": [
        {
          "output_type": "stream",
          "name": "stdout",
          "text": [
            "Vector:\n",
            "Shape: (4,)\n",
            "Rank: tf.Tensor(1, shape=(), dtype=int32)\n",
            "Size: tf.Tensor(4, shape=(), dtype=int32)\n",
            "\n",
            "Scalar:\n",
            "Shape: ()\n",
            "Rank: tf.Tensor(0, shape=(), dtype=int32)\n",
            "Size: tf.Tensor(1, shape=(), dtype=int32)\n",
            "\n",
            "Matrix:\n",
            "Shape: (2, 2)\n",
            "Rank: tf.Tensor(2, shape=(), dtype=int32)\n",
            "Size: tf.Tensor(4, shape=(), dtype=int32)\n",
            "\n",
            "Tensor:\n",
            "Shape: (2, 2, 2)\n",
            "Rank: tf.Tensor(3, shape=(), dtype=int32)\n",
            "Size: tf.Tensor(8, shape=(), dtype=int32)\n"
          ]
        }
      ]
    },
    {
      "cell_type": "code",
      "source": [
        "# @title 3. Create two tensors containing random values between 0 and 1 with shape [5, 300].\n",
        "\n",
        "tensor1 = tf.random.uniform(shape=[5, 300])\n",
        "tensor2 = tf.random.uniform(shape=[5, 300])\n",
        "\n",
        "print(\"Tensor 1:\", tensor1, \"\\n\")\n",
        "print(\"Tensor 2:\", tensor2)\n"
      ],
      "metadata": {
        "colab": {
          "base_uri": "https://localhost:8080/"
        },
        "id": "xFCflqhrKpiR",
        "outputId": "fd3c841b-806e-49ea-e146-94b641b6be8f"
      },
      "execution_count": 29,
      "outputs": [
        {
          "output_type": "stream",
          "name": "stdout",
          "text": [
            "Tensor 1: tf.Tensor(\n",
            "[[9.35069799e-01 2.93159366e-01 3.47624779e-01 ... 9.37980771e-01\n",
            "  2.77746797e-01 9.39811587e-01]\n",
            " [3.13441038e-01 6.69866323e-01 8.31445694e-01 ... 5.01275063e-04\n",
            "  8.27200532e-01 8.68953228e-01]\n",
            " [6.02149606e-01 2.56426811e-01 9.28914428e-01 ... 7.33514309e-01\n",
            "  7.26268411e-01 6.11797929e-01]\n",
            " [1.14524126e-01 2.55079985e-01 1.60353541e-01 ... 8.12317371e-01\n",
            "  1.08756304e-01 8.86413097e-01]\n",
            " [2.38683462e-01 5.10795832e-01 1.33285403e-01 ... 2.80616283e-02\n",
            "  1.69330359e-01 4.04206514e-01]], shape=(5, 300), dtype=float32) \n",
            "\n",
            "Tensor 2: tf.Tensor(\n",
            "[[0.10613024 0.03080034 0.20274067 ... 0.5472406  0.94961333 0.47079873]\n",
            " [0.5672213  0.43569732 0.9779085  ... 0.31779325 0.9193777  0.8923398 ]\n",
            " [0.28223872 0.43564105 0.26612723 ... 0.43591607 0.8061352  0.01520658]\n",
            " [0.14729834 0.152084   0.04936051 ... 0.8428521  0.43748462 0.7309005 ]\n",
            " [0.39861667 0.1697557  0.7395948  ... 0.67870724 0.15673435 0.35786533]], shape=(5, 300), dtype=float32)\n"
          ]
        }
      ]
    },
    {
      "cell_type": "code",
      "source": [
        "# @title 4. Multiply the two tensors you created in 3 using matrix multiplication.\n",
        "\n",
        "tensor_mult = tf.matmul(tensor1, tf.transpose(tensor2))\n",
        "print(tensor_mult)\n"
      ],
      "metadata": {
        "colab": {
          "base_uri": "https://localhost:8080/"
        },
        "id": "dtiN_vk9K5vr",
        "outputId": "784100a3-6415-4213-a0e9-2124d9a16f98"
      },
      "execution_count": 30,
      "outputs": [
        {
          "output_type": "stream",
          "name": "stdout",
          "text": [
            "tf.Tensor(\n",
            "[[70.55658  74.646095 72.409355 73.96684  76.38922 ]\n",
            " [72.95719  73.301216 76.245316 76.13284  76.96216 ]\n",
            " [74.75396  73.05295  75.063736 76.718475 77.40128 ]\n",
            " [74.3958   72.595314 76.715935 78.66717  76.35787 ]\n",
            " [72.647026 71.64404  75.85521  75.28499  73.739876]], shape=(5, 5), dtype=float32)\n"
          ]
        }
      ]
    },
    {
      "cell_type": "code",
      "source": [
        "# @title 5. Multiply the two tensors you created in 3 using dot product.\n",
        "\n",
        "tensor_dot = tf.tensordot(tensor1, tf.transpose(tensor2), axes=1)\n",
        "print(tensor_dot)\n"
      ],
      "metadata": {
        "colab": {
          "base_uri": "https://localhost:8080/"
        },
        "id": "9zN-PWcXLHyJ",
        "outputId": "301ba70a-d0d9-480d-b914-88d534bcf88f"
      },
      "execution_count": 31,
      "outputs": [
        {
          "output_type": "stream",
          "name": "stdout",
          "text": [
            "tf.Tensor(\n",
            "[[70.55658  74.646095 72.409355 73.96684  76.38922 ]\n",
            " [72.95719  73.301216 76.245316 76.13284  76.96216 ]\n",
            " [74.75396  73.05295  75.063736 76.718475 77.40128 ]\n",
            " [74.3958   72.595314 76.715935 78.66717  76.35787 ]\n",
            " [72.647026 71.64404  75.85521  75.28499  73.739876]], shape=(5, 5), dtype=float32)\n"
          ]
        }
      ]
    },
    {
      "cell_type": "code",
      "source": [
        "# @title 6. Create a tensor with random values between 0 and 1 with shape [224, 224, 3].\n",
        "\n",
        "random_tensor = tf.random.uniform(shape=[224, 224, 3])\n",
        "print(random_tensor)\n"
      ],
      "metadata": {
        "colab": {
          "base_uri": "https://localhost:8080/"
        },
        "id": "pDq-l7oxLTnm",
        "outputId": "bba41066-af51-4958-9f3d-59f5efafa18a"
      },
      "execution_count": 32,
      "outputs": [
        {
          "output_type": "stream",
          "name": "stdout",
          "text": [
            "tf.Tensor(\n",
            "[[[7.24982142e-01 2.38647938e-01 4.72600341e-01]\n",
            "  [6.83505535e-01 7.26200461e-01 5.55366516e-01]\n",
            "  [2.76999474e-01 8.32804322e-01 2.70431638e-01]\n",
            "  ...\n",
            "  [2.11743236e-01 8.83840442e-01 9.72474813e-02]\n",
            "  [6.87637925e-01 6.13827705e-01 2.86573887e-01]\n",
            "  [3.06563377e-01 2.80949831e-01 4.17039394e-02]]\n",
            "\n",
            " [[8.65949750e-01 3.26418877e-02 9.29320335e-01]\n",
            "  [5.11559248e-01 8.49012494e-01 8.89457345e-01]\n",
            "  [7.79813528e-02 2.19149828e-01 9.52571511e-01]\n",
            "  ...\n",
            "  [6.48108244e-01 4.82172251e-01 4.43962812e-02]\n",
            "  [3.58879089e-01 4.73972917e-01 3.34285259e-01]\n",
            "  [8.73214602e-01 5.33488393e-01 2.79004574e-01]]\n",
            "\n",
            " [[7.68280029e-03 4.88049984e-01 5.21681309e-02]\n",
            "  [9.02006030e-01 1.11773372e-01 3.88885736e-02]\n",
            "  [1.73735142e-01 8.71878147e-01 8.38757873e-01]\n",
            "  ...\n",
            "  [6.38198376e-01 7.30853915e-01 6.33835793e-04]\n",
            "  [2.44048238e-01 6.64864182e-01 6.12820148e-01]\n",
            "  [3.92687321e-01 5.87354898e-02 6.38356447e-01]]\n",
            "\n",
            " ...\n",
            "\n",
            " [[5.06487846e-01 7.83785939e-01 2.03510046e-01]\n",
            "  [2.08866596e-03 7.81955600e-01 9.61542606e-01]\n",
            "  [1.49282932e-01 2.15043902e-01 7.42175937e-01]\n",
            "  ...\n",
            "  [6.62453532e-01 2.06840277e-01 9.41833138e-01]\n",
            "  [6.88656807e-01 1.33257151e-01 7.61390924e-02]\n",
            "  [5.88128090e-01 2.58996725e-01 4.24363971e-01]]\n",
            "\n",
            " [[9.84676957e-01 3.86990547e-01 2.79895902e-01]\n",
            "  [3.18353534e-01 4.49264288e-01 2.37684488e-01]\n",
            "  [7.76605844e-01 3.41882706e-01 1.01441145e-02]\n",
            "  ...\n",
            "  [7.70595074e-02 1.35366201e-01 6.46512389e-01]\n",
            "  [4.16038871e-01 3.62759709e-01 2.25090027e-01]\n",
            "  [3.82366538e-01 9.30075169e-01 3.69988799e-01]]\n",
            "\n",
            " [[1.50051713e-01 6.85753942e-01 5.81256032e-01]\n",
            "  [8.70685101e-01 6.62837625e-01 9.97577071e-01]\n",
            "  [5.52070141e-03 3.25226068e-01 6.93846822e-01]\n",
            "  ...\n",
            "  [2.31840730e-01 9.67443943e-01 1.29666090e-01]\n",
            "  [8.67243052e-01 4.12011027e-01 8.59153390e-01]\n",
            "  [5.77347636e-01 2.26977468e-01 7.91784048e-01]]], shape=(224, 224, 3), dtype=float32)\n"
          ]
        }
      ]
    },
    {
      "cell_type": "code",
      "source": [
        "# @title 7. Find the min and max values of the tensor you created in 6.\n",
        "\n",
        "print(\"Minimum:\", tf.reduce_min(random_tensor))\n",
        "print(\"Maximum:\", tf.reduce_max(random_tensor))\n"
      ],
      "metadata": {
        "colab": {
          "base_uri": "https://localhost:8080/"
        },
        "id": "pcbBySKMLeEP",
        "outputId": "a843ca9b-0fc5-4ecd-ae7e-d92e8d53fc56"
      },
      "execution_count": 33,
      "outputs": [
        {
          "output_type": "stream",
          "name": "stdout",
          "text": [
            "Minimum: tf.Tensor(8.34465e-06, shape=(), dtype=float32)\n",
            "Maximum: tf.Tensor(0.9999969, shape=(), dtype=float32)\n"
          ]
        }
      ]
    },
    {
      "cell_type": "code",
      "source": [
        "# @title 8. Created a tensor with random values of shape [1, 224, 224, 3] then squeeze it to change the shape to [224, 224, 3].\n",
        "\n",
        "# Create a tensor with random values of shape [1, 224, 224, 3]\n",
        "random_tensor_squeezable = tf.random.Generator.from_seed(42)\n",
        "random_tensor_squeezable = random_tensor_squeezable.normal(shape=(1, 224, 224, 3))\n",
        "\n",
        "# Squeeze the tensor to change the shape to [224, 224, 3]\n",
        "squeezed_tensor = tf.squeeze(random_tensor_squeezable)\n",
        "\n",
        "# Print the shapes of the original and squeezed tensors\n",
        "print(\"Original tensor shape:\", random_tensor_squeezable.shape)\n",
        "print(\"Squeezed tensor shape:\", squeezed_tensor.shape)\n"
      ],
      "metadata": {
        "colab": {
          "base_uri": "https://localhost:8080/"
        },
        "id": "dG3-BkFyLlIp",
        "outputId": "c8ddeb63-7340-40b9-8edf-887961b36910"
      },
      "execution_count": 34,
      "outputs": [
        {
          "output_type": "stream",
          "name": "stdout",
          "text": [
            "Original tensor shape: (1, 224, 224, 3)\n",
            "Squeezed tensor shape: (224, 224, 3)\n"
          ]
        }
      ]
    },
    {
      "cell_type": "code",
      "source": [
        "# @title 9. Create a tensor with shape [10] using your own choice of values, then find the index which has the maximum value.\n",
        "\n",
        "# Create a tensor with shape [10]\n",
        "my_tensor = tf.constant([5, 4, 3, 2, 1, 9, 8, 7, 6, 0])\n",
        "\n",
        "# Find the index with the maximum value\n",
        "max_index = tf.argmax(my_tensor)\n",
        "\n",
        "print(\"Tensor:\", my_tensor)\n",
        "print(\"Index with maximum value:\", max_index.numpy())\n"
      ],
      "metadata": {
        "colab": {
          "base_uri": "https://localhost:8080/"
        },
        "id": "_f7WLhdNLxkJ",
        "outputId": "cc242ecf-413a-4ec6-8504-28cd4a7c5dfa"
      },
      "execution_count": 35,
      "outputs": [
        {
          "output_type": "stream",
          "name": "stdout",
          "text": [
            "Tensor: tf.Tensor([5 4 3 2 1 9 8 7 6 0], shape=(10,), dtype=int32)\n",
            "Index with maximum value: 5\n"
          ]
        }
      ]
    },
    {
      "cell_type": "code",
      "source": [
        "# @title 10. One-hot encode the tensor you created in 9.\n",
        "\n",
        "one_hot_tensor = tf.one_hot(my_tensor, depth=tf.size(my_tensor).numpy())\n",
        "\n",
        "print(\"One-hot encoded tensor:\\n\", one_hot_tensor)\n"
      ],
      "metadata": {
        "colab": {
          "base_uri": "https://localhost:8080/"
        },
        "id": "aRfbLlg6MLkj",
        "outputId": "aa952c92-6959-4fa4-d6ce-e94306915003"
      },
      "execution_count": 36,
      "outputs": [
        {
          "output_type": "stream",
          "name": "stdout",
          "text": [
            "One-hot encoded tensor:\n",
            " tf.Tensor(\n",
            "[[0. 0. 0. 0. 0. 1. 0. 0. 0. 0.]\n",
            " [0. 0. 0. 0. 1. 0. 0. 0. 0. 0.]\n",
            " [0. 0. 0. 1. 0. 0. 0. 0. 0. 0.]\n",
            " [0. 0. 1. 0. 0. 0. 0. 0. 0. 0.]\n",
            " [0. 1. 0. 0. 0. 0. 0. 0. 0. 0.]\n",
            " [0. 0. 0. 0. 0. 0. 0. 0. 0. 1.]\n",
            " [0. 0. 0. 0. 0. 0. 0. 0. 1. 0.]\n",
            " [0. 0. 0. 0. 0. 0. 0. 1. 0. 0.]\n",
            " [0. 0. 0. 0. 0. 0. 1. 0. 0. 0.]\n",
            " [1. 0. 0. 0. 0. 0. 0. 0. 0. 0.]], shape=(10, 10), dtype=float32)\n"
          ]
        }
      ]
    }
  ]
}