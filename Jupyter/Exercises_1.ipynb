{
 "cells": [
  {
   "cell_type": "code",
   "execution_count": 1,
   "metadata": {},
   "outputs": [
    {
     "name": "stdout",
     "output_type": "stream",
     "text": [
      "You are old enough to drive.\n",
      "You are 5 years older than me.\n",
      "30 is equal to 30\n"
     ]
    }
   ],
   "source": [
    "'''\n",
    "Get user input using input(“Enter your age: ”). \n",
    "If user is 18 or older, give feedback: You are old enough to drive. \n",
    "If below 18 give feedback to wait for the missing amount of years. \n",
    "'''\n",
    "def check_driving_age():\n",
    "    age = int(input(\"Enter your age: \"))\n",
    "    if age >= 18:\n",
    "        print(\"You are old enough to drive.\")\n",
    "    else:\n",
    "        print(f\"You need {18 - age} more years to learn to drive.\")\n",
    "\n",
    "'''\n",
    "Compare the values of my_age and your_age using if … else. \n",
    "Who is older (me or you)? Use input(“Enter your age: ”) to get the age as input. \n",
    "You can use a nested condition to print 'year' for 1 year difference in age, 'years' for bigger differences, and a custom text if my_age = your_age.\n",
    "'''\n",
    "def compare_ages():\n",
    "    my_age = 25  # Example age\n",
    "    your_age = int(input(\"Enter your age: \"))\n",
    "    if your_age > my_age:\n",
    "        diff = your_age - my_age\n",
    "        if diff == 1:\n",
    "            print(\"You are 1 year older than me.\")\n",
    "        else:\n",
    "            print(f\"You are {diff} years older than me.\")\n",
    "    elif your_age < my_age:\n",
    "        diff = my_age - your_age\n",
    "        if diff == 1:\n",
    "            print(\"I am 1 year older than you.\")\n",
    "        else:\n",
    "            print(f\"I am {diff} years older than you.\")\n",
    "    else:\n",
    "        print(\"We are the same age.\")\n",
    "\n",
    "'''\n",
    "Get two numbers from the user using input prompt. \n",
    "If a is greater than b return a is greater than b, if a is less b return a is smaller than b, else a is equal to b.\n",
    "'''\n",
    "def compare_numbers():\n",
    "    a = int(input(\"Enter number one: \"))\n",
    "    b = int(input(\"Enter number two: \"))\n",
    "    if a > b:\n",
    "        print(f\"{a} is greater than {b}\")\n",
    "    elif a < b:\n",
    "        print(f\"{a} is smaller than {b}\")\n",
    "    else:\n",
    "        print(f\"{a} is equal to {b}\")\n",
    "\n",
    "# Execute the functions\n",
    "check_driving_age()\n",
    "check_driving_age()\n",
    "\n",
    "print()\n",
    "\n",
    "compare_ages()\n",
    "\n",
    "print()\n",
    "\n",
    "compare_numbers()"
   ]
  }
 ],
 "metadata": {
  "kernelspec": {
   "display_name": ".venv",
   "language": "python",
   "name": "python3"
  },
  "language_info": {
   "codemirror_mode": {
    "name": "ipython",
    "version": 3
   },
   "file_extension": ".py",
   "mimetype": "text/x-python",
   "name": "python",
   "nbconvert_exporter": "python",
   "pygments_lexer": "ipython3",
   "version": "3.10.0"
  }
 },
 "nbformat": 4,
 "nbformat_minor": 2
}
