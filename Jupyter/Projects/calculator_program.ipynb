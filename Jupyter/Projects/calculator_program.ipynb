{
 "cells": [
  {
   "cell_type": "code",
   "execution_count": 1,
   "metadata": {},
   "outputs": [
    {
     "name": "stdout",
     "output_type": "stream",
     "text": [
      "5.0 / 0.0 = \n",
      "Error: Pembagian dengan nol tidak diperbolehkan.\n",
      "Terima kasih. Sampai jumpa 👋\n"
     ]
    },
    {
     "ename": "",
     "evalue": "",
     "output_type": "error",
     "traceback": [
      "\u001b[1;31mThe Kernel crashed while executing code in the current cell or a previous cell. \n",
      "\u001b[1;31mPlease review the code in the cell(s) to identify a possible cause of the failure. \n",
      "\u001b[1;31mClick <a href='https://aka.ms/vscodeJupyterKernelCrash'>here</a> for more info. \n",
      "\u001b[1;31mView Jupyter <a href='command:jupyter.viewOutput'>log</a> for further details."
     ]
    }
   ],
   "source": [
    "# [Exercise] Calculator Program\n",
    "\n",
    "def calculate():\n",
    "    try:\n",
    "        angka_1 = float(input(\"Masukkan angka pertama: \"))\n",
    "        angka_2 = float(input(\"Masukkan angka kedua  : \"))\n",
    "\n",
    "        operasi = input(\n",
    "            \"\"\"Operasi matematika yang didukung:\n",
    "        + untuk penjumlahan\n",
    "        - untuk pengurangan\n",
    "        * untuk perkalian\n",
    "        / untuk pembagian\n",
    "        ** untuk pangkat\n",
    "Silahkan pilih operasi matematika: \"\"\"\n",
    "        )\n",
    "\n",
    "        if operasi == \"+\":\n",
    "            print(\"{} + {} = \".format(angka_1, angka_2))\n",
    "            print(angka_1 + angka_2)\n",
    "\n",
    "        elif operasi == \"-\":\n",
    "            print(\"{} - {} = \".format(angka_1, angka_2))\n",
    "            print(angka_1 - angka_2)\n",
    "\n",
    "        elif operasi == \"*\":\n",
    "            print(\"{} * {} = \".format(angka_1, angka_2))\n",
    "            print(angka_1 * angka_2)\n",
    "\n",
    "        elif operasi == \"/\":\n",
    "            try:\n",
    "                print(\"{} / {} = \".format(angka_1, angka_2))\n",
    "                print(angka_1 / angka_2)\n",
    "            except ZeroDivisionError:\n",
    "                print(\"Error: Pembagian dengan nol tidak diperbolehkan.\")\n",
    "\n",
    "        elif operasi == \"**\":\n",
    "            print(\"{} ** {} = \".format(angka_1, angka_2))\n",
    "            print(angka_1 ** angka_2)\n",
    "\n",
    "        else:\n",
    "            print(\"Operasi yang kamu masukkan tidak didukung. Harap coba sekali lagi.\")\n",
    "\n",
    "    except ValueError:\n",
    "        print(\"Error: Masukkan angka yang valid.\")\n",
    "\n",
    "    # Jalankan fungsi again() untuk menanyakan user apakah mau melakukan kalkulasi lagi\n",
    "    # atau selesai.\n",
    "    again()\n",
    "\n",
    "def again():\n",
    "    lagi = input(\"Apakah kamu ingin melakukan kalkulasi lagi (Y/T)?\")\n",
    "\n",
    "    if lagi.upper() == \"Y\":\n",
    "        calculate()\n",
    "\n",
    "    elif lagi.upper() == \"T\":\n",
    "        print(\"Terima kasih. Sampai jumpa 👋\")\n",
    "\n",
    "    else:\n",
    "        again()\n",
    "\n",
    "calculate()"
   ]
  }
 ],
 "metadata": {
  "kernelspec": {
   "display_name": ".venv",
   "language": "python",
   "name": "python3"
  },
  "language_info": {
   "codemirror_mode": {
    "name": "ipython",
    "version": 3
   },
   "file_extension": ".py",
   "mimetype": "text/x-python",
   "name": "python",
   "nbconvert_exporter": "python",
   "pygments_lexer": "ipython3",
   "version": "3.10.0"
  }
 },
 "nbformat": 4,
 "nbformat_minor": 2
}
