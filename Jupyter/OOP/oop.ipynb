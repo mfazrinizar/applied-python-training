{
 "cells": [
  {
   "cell_type": "code",
   "execution_count": 4,
   "metadata": {},
   "outputs": [
    {
     "name": "stdout",
     "output_type": "stream",
     "text": [
      "Account holder: Akmal The Cat\n",
      "Total Income: 11500\n",
      "Total Expense: 1500\n",
      "Account Balance: 10000\n"
     ]
    }
   ],
   "source": [
    "class PersonAccount:\n",
    "    def __init__(self, firstname, lastname):\n",
    "        self.firstname = firstname\n",
    "        self.lastname = lastname\n",
    "        self.incomes = {}\n",
    "        self.expenses = {}\n",
    "\n",
    "    def total_income(self):\n",
    "        return sum(self.incomes.values())\n",
    "\n",
    "    def total_expense(self):\n",
    "        return sum(self.expenses.values())\n",
    "\n",
    "    def account_info(self):\n",
    "        return f\"Account holder: {self.firstname} {self.lastname}\\nTotal Income: {self.total_income()}\\nTotal Expense: {self.total_expense()}\\nAccount Balance: {self.account_balance()}\"\n",
    "\n",
    "    def add_income(self, description, amount):\n",
    "        self.incomes[description] = amount\n",
    "\n",
    "    def add_expense(self, description, amount):\n",
    "        self.expenses[description] = amount\n",
    "\n",
    "    def account_balance(self):\n",
    "        return self.total_income() - self.total_expense()\n",
    "\n",
    "# Testing the class and its functions\n",
    "account = PersonAccount('Akmal', 'The Cat')\n",
    "account.add_income('Salary', 10000)\n",
    "account.add_income('Freelance', 1500)\n",
    "account.add_expense('Rent', 1200)\n",
    "account.add_expense('Groceries', 300)\n",
    "\n",
    "print(account.account_info())\n",
    "# Output:\n",
    "# Account holder: John Doe\n",
    "# Total Income: 6500\n",
    "# Total Expense: 1500\n",
    "# Account Balance: 5000"
   ]
  }
 ],
 "metadata": {
  "kernelspec": {
   "display_name": ".venv",
   "language": "python",
   "name": "python3"
  },
  "language_info": {
   "codemirror_mode": {
    "name": "ipython",
    "version": 3
   },
   "file_extension": ".py",
   "mimetype": "text/x-python",
   "name": "python",
   "nbconvert_exporter": "python",
   "pygments_lexer": "ipython3",
   "version": "3.10.0"
  }
 },
 "nbformat": 4,
 "nbformat_minor": 2
}
